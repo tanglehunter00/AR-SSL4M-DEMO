{
  "cells": [
    {
      "cell_type": "markdown",
      "metadata": {},
      "source": [
        "# AR-SSL4M Pretraining on Google Colab\n",
        "\n",
        "This notebook runs AR-SSL4M (Autoregressive Sequence Modeling for 3D Medical Image Representation) pretraining on Google Colab.\n",
        "\n",
        "## Requirements\n",
        "- GPU runtime (T4, V100, or A100)\n",
        "- High RAM runtime (recommended)\n",
        "\n",
        "## Dataset\n",
        "- Using STOIC dataset (2771 samples)\n",
        "- Each sample: 128×128×128 3D medical images\n"
      ]
    },
    {
      "cell_type": "markdown",
      "metadata": {},
      "source": [
        "## 1. Environment Setup\n"
      ]
    },
    {
      "cell_type": "code",
      "execution_count": null,
      "metadata": {},
      "outputs": [],
      "source": [
        "# Check GPU availability\n",
        "import torch\n",
        "print(f\"CUDA available: {torch.cuda.is_available()}\")\n",
        "if torch.cuda.is_available():\n",
        "    print(f\"GPU: {torch.cuda.get_device_name(0)}\")\n",
        "    print(f\"GPU Memory: {torch.cuda.get_device_properties(0).total_memory / 1e9:.1f} GB\")\n",
        "else:\n",
        "    print(\"⚠️ No GPU detected! Please enable GPU runtime in Colab.\")\n"
      ]
    },
    {
      "cell_type": "code",
      "execution_count": null,
      "metadata": {},
      "outputs": [],
      "source": [
        "# Install required packages\n",
        "!pip install -q transformers==4.37.0\n",
        "!pip install -q monai==1.3.0\n",
        "!pip install -q fire\n",
        "!pip install -q scikit-learn\n",
        "!pip install -q tqdm\n",
        "\n",
        "print(\"✅ Dependencies installed!\")\n"
      ]
    },
    {
      "cell_type": "markdown",
      "metadata": {},
      "source": [
        "## 2. Clone Repository and Setup\n"
      ]
    },
    {
      "cell_type": "code",
      "execution_count": null,
      "metadata": {},
      "outputs": [],
      "source": [
        "# Clone the repository\n",
        "import os\n",
        "repo_url = \"https://github.com/tanglehunter00/AR-SSL4M-DEMO.git\"\n",
        "\n",
        "if os.path.exists(\"AR-SSL4M-DEMO\"):\n",
        "    print(\"Repository already exists, pulling latest changes...\")\n",
        "    !cd AR-SSL4M-DEMO && git pull\n",
        "else:\n",
        "    print(\"Cloning repository...\")\n",
        "    !git clone {repo_url}\n",
        "\n",
        "# Change to project directory\n",
        "os.chdir(\"AR-SSL4M-DEMO\")\n",
        "print(f\"✅ Current directory: {os.getcwd()}\")\n"
      ]
    },
    {
      "cell_type": "markdown",
      "metadata": {},
      "source": [
        "## 3. Data Setup\n",
        "\n",
        "根据您的截图，数据集位于Google Drive的 `dataset/compressed_datasets/volumes` 路径中。\n"
      ]
    },
    {
      "cell_type": "code",
      "execution_count": null,
      "metadata": {},
      "outputs": [],
      "source": [
        "# Mount Google Drive to access your data\n",
        "from google.colab import drive\n",
        "drive.mount('/content/drive')\n",
        "\n",
        "# Set path to your data in Google Drive (based on your screenshot)\n",
        "data_path = \"/content/drive/MyDrive/dataset/compressed_datasets/volumes\"\n",
        "\n",
        "# Check if data exists\n",
        "if os.path.exists(data_path):\n",
        "    npy_files = [f for f in os.listdir(data_path) if f.endswith('.npy')]\n",
        "    print(f\"✅ Found {len(npy_files)} .npy files in {data_path}\")\n",
        "    if len(npy_files) == 0:\n",
        "        print(\"⚠️ No .npy files found in the directory\")\n",
        "        print(\"Available files:\")\n",
        "        all_files = os.listdir(data_path)[:10]  # Show first 10 files\n",
        "        for f in all_files:\n",
        "            print(f\"  - {f}\")\n",
        "else:\n",
        "    print(f\"❌ Data path not found: {data_path}\")\n",
        "    print(\"Available paths in Google Drive:\")\n",
        "    try:\n",
        "        drive_contents = os.listdir(\"/content/drive/MyDrive\")\n",
        "        for item in drive_contents[:10]:\n",
        "            print(f\"  - /content/drive/MyDrive/{item}\")\n",
        "    except:\n",
        "        print(\"Unable to list drive contents\")\n"
      ]
    },
    {
      "cell_type": "code",
      "execution_count": null,
      "metadata": {},
      "outputs": [],
      "source": [
        "# Create data list file\n",
        "import glob\n",
        "\n",
        "# Try multiple possible data paths\n",
        "possible_paths = [\n",
        "    \"/content/drive/MyDrive/dataset/compressed_datasets/volumes\",\n",
        "    \"/content/drive/MyDrive/compressed_datasets/volumes\", \n",
        "    \"/content/drive/MyDrive/dataset/volumes\",\n",
        "    \"/content/drive/MyDrive/volumes\"\n",
        "]\n",
        "\n",
        "npy_files = []\n",
        "actual_data_path = None\n",
        "\n",
        "for path in possible_paths:\n",
        "    if os.path.exists(path):\n",
        "        files = glob.glob(os.path.join(path, \"*.npy\"))\n",
        "        if files:\n",
        "            npy_files = files\n",
        "            actual_data_path = path\n",
        "            print(f\"✅ Found {len(npy_files)} .npy files in {actual_data_path}\")\n",
        "            break\n",
        "        else:\n",
        "            print(f\"⚠️ Path exists but no .npy files found: {path}\")\n",
        "\n",
        "if not npy_files:\n",
        "    print(\"❌ No .npy files found in any of the expected paths\")\n",
        "    print(\"Please check your Google Drive structure and update the paths accordingly\")\n",
        "else:\n",
        "    # Create data list file\n",
        "    data_list_path = \"pretrain/colab_data_list.txt\"\n",
        "    with open(data_list_path, 'w') as f:\n",
        "        for npy_file in npy_files:\n",
        "            f.write(f\"{npy_file}\\n\")\n",
        "    \n",
        "    print(f\"✅ Created data list: {data_list_path} with {len(npy_files)} files\")\n"
      ]
    },
    {
      "cell_type": "markdown",
      "metadata": {},
      "source": [
        "## 4. Update Configuration for Colab\n"
      ]
    },
    {
      "cell_type": "code",
      "execution_count": null,
      "metadata": {},
      "outputs": [],
      "source": [
        "# Update dataset configuration\n",
        "config_content = '''from dataclasses import dataclass\n",
        "\n",
        "\n",
        "@dataclass\n",
        "class custom_dataset:\n",
        "    dataset: str = \"custom_dataset\"\n",
        "    file: str = \"image_dataset.py\"\n",
        "    train_split: str = \"train\"\n",
        "    test_split: str = \"validation\"\n",
        "    spatial_path: str = \"colab_data_list.txt\"\n",
        "    contrast_path: str = \"colab_data_list.txt\"\n",
        "    semantic_path: str = \"colab_data_list.txt\"\n",
        "    img_size = [128, 128, 128]\n",
        "    patch_size = [16, 16, 16]\n",
        "    attention_type = 'prefix'\n",
        "    add_series_data = False\n",
        "    add_spatial_data = True\n",
        "    is_subset = False\n",
        "    series_length = 4\n",
        "'''\n",
        "\n",
        "with open('pretrain/configs/datasets.py', 'w') as f:\n",
        "    f.write(config_content)\n",
        "\n",
        "print(\"✅ Updated dataset configuration\")\n"
      ]
    },
    {
      "cell_type": "code",
      "execution_count": null,
      "metadata": {},
      "outputs": [],
      "source": [
        "# Update training configuration for Colab\n",
        "training_config_content = '''from dataclasses import dataclass\n",
        "\n",
        "\n",
        "@dataclass\n",
        "class train_config:\n",
        "    enable_fsdp: bool=False\n",
        "    low_cpu_fsdp: bool=False\n",
        "    run_validation: bool=True\n",
        "    batch_size_training: int=4  # Adjusted for Colab GPU memory\n",
        "    batching_strategy: str=\"padding\"\n",
        "    gradient_accumulation_steps: int=1\n",
        "    gradient_clipping: bool=False\n",
        "    gradient_clipping_threshold: float = 1.0\n",
        "    num_epochs: int=1  # Single epoch for Colab\n",
        "    warmup_epochs:int=0\n",
        "    num_workers_dataloader: int=0  # Set to 0 to avoid multiprocessing issues in Colab\n",
        "    lr: float=1e-4\n",
        "    weight_decay: float=0.01\n",
        "    gamma: float=0.1\n",
        "    seed: int=42\n",
        "    use_fp16: bool=True  # Enable FP16 for Colab GPU memory efficiency\n",
        "    mixed_precision: bool=True\n",
        "    val_batch_size: int=1\n",
        "    dataset = \"custom_dataset\"\n",
        "    output_dir: str=\"/content/AR-SSL4M-DEMO/pretrain/save\"\n",
        "    freeze_layers: bool=False\n",
        "    num_freeze_layers: int=1\n",
        "    save_model: bool=True\n",
        "    save_optimizer: bool=False\n",
        "    save_metrics: bool=True\n",
        "    scheduler:str='CosineLR'\n",
        "    min_lr: float=0\n",
        "    pos_type: str='sincos3d'\n",
        "    norm_pixel_loss: bool=True\n",
        "    enable_profiling: bool=False  # Disable profiling for cleaner output\n",
        "'''\n",
        "\n",
        "with open('pretrain/configs/training.py', 'w') as f:\n",
        "    f.write(training_config_content)\n",
        "\n",
        "print(\"✅ Updated training configuration for Colab\")\n"
      ]
    },
    {
      "cell_type": "markdown",
      "metadata": {},
      "source": [
        "## 5. Start Pretraining\n"
      ]
    },
    {
      "cell_type": "code",
      "execution_count": null,
      "metadata": {},
      "outputs": [],
      "source": [
        "# Create save directory\n",
        "os.makedirs(\"pretrain/save\", exist_ok=True)\n",
        "print(\"✅ Created save directory\")\n"
      ]
    },
    {
      "cell_type": "code",
      "execution_count": null,
      "metadata": {},
      "outputs": [],
      "source": [
        "# Start pretraining\n",
        "print(\"🚀 Starting AR-SSL4M Pretraining...\")\n",
        "print(\"=\" * 60)\n",
        "\n",
        "# Change to pretrain directory and run\n",
        "os.chdir(\"pretrain\")\n",
        "\n",
        "# Run the training script\n",
        "!python main.py --output_dir save --batch_size_training 4\n",
        "\n",
        "print(\"=\" * 60)\n",
        "print(\"✅ Pretraining completed!\")\n"
      ]
    },
    {
      "cell_type": "markdown",
      "metadata": {},
      "source": [
        "## 6. Check Results and Download Model\n"
      ]
    },
    {
      "cell_type": "code",
      "execution_count": null,
      "metadata": {},
      "outputs": [],
      "source": [
        "# Check training results\n",
        "import os\n",
        "import glob\n",
        "\n",
        "save_dir = \"save\"\n",
        "if os.path.exists(save_dir):\n",
        "    files = os.listdir(save_dir)\n",
        "    print(f\"📁 Files in save directory:\")\n",
        "    for file in files:\n",
        "        file_path = os.path.join(save_dir, file)\n",
        "        if os.path.isfile(file_path):\n",
        "            size_mb = os.path.getsize(file_path) / (1024 * 1024)\n",
        "            print(f\"  - {file} ({size_mb:.1f} MB)\")\n",
        "else:\n",
        "    print(\"❌ Save directory not found\")\n"
      ]
    },
    {
      "cell_type": "code",
      "execution_count": null,
      "metadata": {},
      "outputs": [],
      "source": [
        "# Download the trained model\n",
        "from google.colab import files\n",
        "import zipfile\n",
        "\n",
        "# Create a zip file with all results\n",
        "zip_path = \"/content/ar_ssl4m_pretrained_model.zip\"\n",
        "\n",
        "with zipfile.ZipFile(zip_path, 'w') as zipf:\n",
        "    for root, dirs, files_list in os.walk(\"save\"):\n",
        "        for file in files_list:\n",
        "            file_path = os.path.join(root, file)\n",
        "            arcname = os.path.relpath(file_path, \"save\")\n",
        "            zipf.write(file_path, arcname)\n",
        "            print(f\"Added to zip: {arcname}\")\n",
        "\n",
        "print(f\"\\n📦 Created zip file: {zip_path}\")\n",
        "print(\"⬇️ Downloading...\")\n",
        "\n",
        "# Download the zip file\n",
        "files.download(zip_path)\n"
      ]
    },
    {
      "cell_type": "markdown",
      "metadata": {},
      "source": [
        "## 7. Training Summary\n"
      ]
    },
    {
      "cell_type": "code",
      "execution_count": null,
      "metadata": {},
      "outputs": [],
      "source": [
        "# Display training summary\n",
        "print(\"🎯 AR-SSL4M Pretraining Summary\")\n",
        "print(\"=\" * 50)\n",
        "print(f\"📊 Dataset: STOIC ({len(npy_files) if 'npy_files' in locals() and npy_files else 'Unknown'} samples)\")\n",
        "print(f\"📂 Data path: {actual_data_path if 'actual_data_path' in locals() and actual_data_path else 'Not found'}\")\n",
        "print(f\"🏗️ Model: AR-SSL4M (91.3M parameters)\")\n",
        "print(f\"📐 Image size: 128×128×128\")\n",
        "print(f\"🔢 Patch size: 16×16×16\")\n",
        "print(f\"📦 Batch size: 4\")\n",
        "print(f\"🎓 Learning rate: 1e-4\")\n",
        "print(f\"🔄 Epochs: 1\")\n",
        "print(f\"💾 Results saved to: save/\")\n",
        "print(f\"🔗 GitHub Repo: https://github.com/tanglehunter00/AR-SSL4M-DEMO\")\n",
        "print(\"=\" * 50)\n",
        "print(\"✅ Training completed successfully!\")\n",
        "print(\"\\n📝 Next steps:\")\n",
        "print(\"1. Download the model zip file\")\n",
        "print(\"2. Use the pretrained model for downstream tasks\")\n",
        "print(\"3. Fine-tune on specific medical imaging tasks (segmentation, classification, etc.)\")\n",
        "print(\"4. Experiment with different hyperparameters for better performance\")\n"
      ]
    },
    {
      "cell_type": "markdown",
      "metadata": {},
      "source": [
        "https://github.com/tanglehunter00/AR-SSL4M-DEMO.git"
      ]
    }
  ],
  "metadata": {
    "language_info": {
      "name": "python"
    }
  },
  "nbformat": 4,
  "nbformat_minor": 2
}
